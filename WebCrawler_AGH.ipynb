{
 "cells": [
  {
   "cell_type": "code",
   "execution_count": 3,
   "metadata": {},
   "outputs": [
    {
     "name": "stdout",
     "output_type": "stream",
     "text": [
      "['http://www.google.com/imghp?hl=en&tab=wi', 'http://maps.google.com/maps?hl=en&tab=wl', 'https://play.google.com/?hl=en&tab=w8']\n"
     ]
    }
   ],
   "source": [
    "import urllib3\n",
    "import requests\n",
    "from bs4 import BeautifulSoup\n",
    "import queue\n",
    "\n",
    "# Function to check link is valid or not\n",
    "def check_valid_link(link):\n",
    "    valid = False\n",
    "    http = urllib3.PoolManager()\n",
    "    try:\n",
    "        response = http.request('GET',link)\n",
    "        if response.status == 200:\n",
    "            valid = True\n",
    "        else:\n",
    "            valid = False\n",
    "    except:\n",
    "        valid = False\n",
    "    return valid\n",
    "\n",
    "# Function to Queue all the valid links to a queue \n",
    "def getLinks(input, queue_name):\n",
    "    page = requests.get(input)\n",
    "    soup = BeautifulSoup(page.text, 'html.parser')\n",
    "    all_link_on_page = soup.find_all('a')\n",
    "    for social_name in all_link_on_page:\n",
    "        if social_name.get('href') == None:\n",
    "            continue\n",
    "        else:\n",
    "            links = social_name.get('href')\n",
    "            queue_name.put(links) \n",
    "            \n",
    "# Web crawler starting point function\n",
    "listOfValidLinks = []\n",
    "def callWebCrawler(input_link, maxLinks):\n",
    "    link_q = queue.Queue() \n",
    "    if(check_valid_link(input_link)):\n",
    "        getLinks(input_link, link_q)\n",
    "        while not link_q.empty() and len(listOfValidLinks) < maxLinks:\n",
    "            link = link_q.get()\n",
    "#             print(link, check_valid_link(link))\n",
    "            if(check_valid_link(link)):\n",
    "                listOfValidLinks.append(link)\n",
    "                getLinks(link, link_q)\n",
    "    else:\n",
    "        return 'invalid input'\n",
    "    \n",
    "input_link = 'http://www.google.com/'\n",
    "maxLinks = 10\n",
    "callWebCrawler(input_link, maxLinks)\n",
    "\n",
    "# Printing the valid links\n",
    "print(listOfValidLinks)"
   ]
  },
  {
   "cell_type": "code",
   "execution_count": null,
   "metadata": {},
   "outputs": [],
   "source": []
  },
  {
   "cell_type": "code",
   "execution_count": null,
   "metadata": {},
   "outputs": [],
   "source": []
  },
  {
   "cell_type": "code",
   "execution_count": null,
   "metadata": {},
   "outputs": [],
   "source": [
    "   "
   ]
  },
  {
   "cell_type": "code",
   "execution_count": null,
   "metadata": {},
   "outputs": [],
   "source": []
  },
  {
   "cell_type": "code",
   "execution_count": null,
   "metadata": {},
   "outputs": [],
   "source": []
  },
  {
   "cell_type": "code",
   "execution_count": null,
   "metadata": {},
   "outputs": [],
   "source": []
  }
 ],
 "metadata": {
  "kernelspec": {
   "display_name": "Python 3",
   "language": "python",
   "name": "python3"
  },
  "language_info": {
   "codemirror_mode": {
    "name": "ipython",
    "version": 3
   },
   "file_extension": ".py",
   "mimetype": "text/x-python",
   "name": "python",
   "nbconvert_exporter": "python",
   "pygments_lexer": "ipython3",
   "version": "3.7.3"
  }
 },
 "nbformat": 4,
 "nbformat_minor": 2
}
